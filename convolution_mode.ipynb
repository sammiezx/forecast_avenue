{
 "cells": [
  {
   "cell_type": "code",
   "execution_count": 4,
   "metadata": {},
   "outputs": [
    {
     "name": "stdout",
     "output_type": "stream",
     "text": [
      "Epoch 1/10\n",
      "129/129 [==============================] - 1s 3ms/step - loss: 1403047247872.0000 - val_loss: 1428569849856.0000\n",
      "Epoch 2/10\n",
      "129/129 [==============================] - 0s 2ms/step - loss: 1388491964416.0000 - val_loss: 1395445334016.0000\n",
      "Epoch 3/10\n",
      "129/129 [==============================] - 0s 2ms/step - loss: 1325765099520.0000 - val_loss: 1297398366208.0000\n",
      "Epoch 4/10\n",
      "129/129 [==============================] - 0s 2ms/step - loss: 1190174654464.0000 - val_loss: 1122316189696.0000\n",
      "Epoch 5/10\n",
      "129/129 [==============================] - 0s 2ms/step - loss: 986191560704.0000 - val_loss: 891509604352.0000\n",
      "Epoch 6/10\n",
      "129/129 [==============================] - 0s 2ms/step - loss: 752903520256.0000 - val_loss: 662060924928.0000\n",
      "Epoch 7/10\n",
      "129/129 [==============================] - 0s 2ms/step - loss: 555755044864.0000 - val_loss: 497028726784.0000\n",
      "Epoch 8/10\n",
      "129/129 [==============================] - 0s 2ms/step - loss: 436916420608.0000 - val_loss: 416384450560.0000\n",
      "Epoch 9/10\n",
      "129/129 [==============================] - 0s 2ms/step - loss: 389666275328.0000 - val_loss: 390671695872.0000\n",
      "Epoch 10/10\n",
      "129/129 [==============================] - 0s 2ms/step - loss: 377486213120.0000 - val_loss: 384881917952.0000\n",
      "41/41 [==============================] - 0s 1ms/step\n",
      "Mean Squared Error: 385297883956.63153\n"
     ]
    }
   ],
   "source": [
    "import pandas as pd\n",
    "import numpy as np\n",
    "from sklearn.model_selection import train_test_split\n",
    "from sklearn.preprocessing import StandardScaler\n",
    "from sklearn.metrics import mean_squared_error\n",
    "import tensorflow as tf\n",
    "from tensorflow.keras.models import Sequential\n",
    "from tensorflow.keras.layers import Conv1D, MaxPooling1D, Flatten, Dense\n",
    "\n",
    "\n",
    "excel_file_path = \"/home/samir/Desktop/rudraAnalytics/sub_projects/forecast_avenue/data/Walmart.csv\"\n",
    "df = pd.read_csv(excel_file_path)\n",
    "\n",
    "df['Date'] = pd.to_datetime(df['Date'], format='%d-%m-%Y')\n",
    "df.set_index('Date', inplace=True)\n",
    "\n",
    "\n",
    "X = df.drop('Weekly_Sales', axis=1)\n",
    "y = df['Weekly_Sales']\n",
    "X = X.values.reshape(X.shape[0], X.shape[1], 1)\n",
    "\n",
    "# Split the data into training and testing sets\n",
    "X_train, X_test, y_train, y_test = train_test_split(X, y, test_size=0.2, random_state=42)\n",
    "\n",
    "# Build the CNN model\n",
    "model = Sequential()\n",
    "model.add(Conv1D(filters=32, kernel_size=4, activation='relu', input_shape=(X.shape[1], 1)))\n",
    "model.add(MaxPooling1D(pool_size=2))\n",
    "model.add(Flatten())\n",
    "model.add(Dense(64, activation='relu'))\n",
    "model.add(Dense(1, activation='linear'))  # Linear activation for regression\n",
    "\n",
    "# Compile the model\n",
    "model.compile(optimizer='adam', loss='mean_squared_error')\n",
    "\n",
    "# Train the model\n",
    "model.fit(X_train, y_train, epochs=10, batch_size=32, validation_split=0.2)\n",
    "\n",
    "# Evaluate the model on the test set\n",
    "y_pred = model.predict(X_test)\n",
    "\n",
    "# Calculate Mean Squared Error\n",
    "mse = mean_squared_error(y_test, y_pred)\n",
    "print(f'Mean Squared Error: {mse}')\n"
   ]
  },
  {
   "cell_type": "code",
   "execution_count": 7,
   "metadata": {},
   "outputs": [],
   "source": [
    "cnn = 385297883956.63153\n",
    "rnn = 1394434375458.0317"
   ]
  },
  {
   "cell_type": "code",
   "execution_count": 8,
   "metadata": {},
   "outputs": [
    {
     "data": {
      "text/plain": [
       "1009136491501.4001"
      ]
     },
     "execution_count": 8,
     "metadata": {},
     "output_type": "execute_result"
    }
   ],
   "source": [
    "rnn - cnn\n",
    "#this is the improvement of cnn over rnn"
   ]
  },
  {
   "cell_type": "code",
   "execution_count": null,
   "metadata": {},
   "outputs": [],
   "source": []
  }
 ],
 "metadata": {
  "kernelspec": {
   "display_name": "env0",
   "language": "python",
   "name": "python3"
  },
  "language_info": {
   "codemirror_mode": {
    "name": "ipython",
    "version": 3
   },
   "file_extension": ".py",
   "mimetype": "text/x-python",
   "name": "python",
   "nbconvert_exporter": "python",
   "pygments_lexer": "ipython3",
   "version": "3.10.12"
  },
  "orig_nbformat": 4
 },
 "nbformat": 4,
 "nbformat_minor": 2
}
