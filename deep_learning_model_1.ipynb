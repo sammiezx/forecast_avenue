{
 "cells": [
  {
   "cell_type": "code",
   "execution_count": 9,
   "metadata": {},
   "outputs": [
    {
     "name": "stdout",
     "output_type": "stream",
     "text": [
      "Epoch 1/10\n",
      "161/161 [==============================] - 1s 2ms/step - loss: 1427807535104.0000 - val_loss: 1361587077120.0000\n",
      "Epoch 2/10\n",
      "161/161 [==============================] - 0s 1ms/step - loss: 1427506069504.0000 - val_loss: 1361273552896.0000\n",
      "Epoch 3/10\n",
      "161/161 [==============================] - 0s 1ms/step - loss: 1426384617472.0000 - val_loss: 1360515170304.0000\n",
      "Epoch 4/10\n",
      "161/161 [==============================] - 0s 1ms/step - loss: 1423886647296.0000 - val_loss: 1359169716224.0000\n",
      "Epoch 5/10\n",
      "161/161 [==============================] - 0s 1ms/step - loss: 1419566120960.0000 - val_loss: 1357159858176.0000\n",
      "Epoch 6/10\n",
      "161/161 [==============================] - 0s 1ms/step - loss: 1413047648256.0000 - val_loss: 1354409574400.0000\n",
      "Epoch 7/10\n",
      "161/161 [==============================] - 0s 1ms/step - loss: 1404074459136.0000 - val_loss: 1350869188608.0000\n",
      "Epoch 8/10\n",
      "161/161 [==============================] - 0s 1ms/step - loss: 1392430284800.0000 - val_loss: 1346443149312.0000\n",
      "Epoch 9/10\n",
      "161/161 [==============================] - 0s 1ms/step - loss: 1377994932224.0000 - val_loss: 1341118611456.0000\n",
      "Epoch 10/10\n",
      "161/161 [==============================] - 0s 1ms/step - loss: 1360735633408.0000 - val_loss: 1334888235008.0000\n",
      "6/6 [==============================] - 0s 1ms/step\n",
      "Mean Squared Error: 1294201580538.4111\n"
     ]
    },
    {
     "name": "stderr",
     "output_type": "stream",
     "text": [
      "/home/samir/Desktop/rudraAnalytics/sub_projects/forecast_avenue/env0/lib/python3.10/site-packages/keras/src/engine/training.py:3103: UserWarning: You are saving your model as an HDF5 file via `model.save()`. This file format is considered legacy. We recommend using instead the native Keras format, e.g. `model.save('my_model.keras')`.\n",
      "  saving_api.save_model(\n"
     ]
    }
   ],
   "source": [
    "import pandas as pd\n",
    "import numpy as np\n",
    "import tensorflow as tf\n",
    "from sklearn.model_selection import train_test_split\n",
    "from sklearn.preprocessing import StandardScaler\n",
    "from sklearn.metrics import mean_squared_error\n",
    "from tensorflow.keras.models import Sequential\n",
    "from tensorflow.keras.layers import Dense\n",
    "\n",
    "\n",
    "excel_file_path = \"/home/samir/Desktop/rudraAnalytics/sub_projects/forecast_avenue/data/Walmart.csv\"\n",
    "df = pd.read_csv(excel_file_path)\n",
    "\n",
    "df['Date'] = pd.to_datetime(df['Date'], format='%d-%m-%Y')\n",
    "df.set_index('Date', inplace=True)\n",
    "df = df.sort_index()\n",
    "\n",
    "X = df.drop('Weekly_Sales', axis=1)\n",
    "y = df['Weekly_Sales']\n",
    "\n",
    "cutoff = '2012-10'\n",
    "X_train = X[:cutoff]\n",
    "X_test = X[cutoff:]\n",
    "y_train = y[:cutoff]\n",
    "y_test = y[cutoff:]\n",
    "\n",
    "# X_train, X_test, y_train, y_test = train_test_split(X, y, test_size=0.2, random_state=42)\n",
    "\n",
    "# Standardize the features\n",
    "scaler = StandardScaler()\n",
    "X_train = scaler.fit_transform(X_train)\n",
    "X_test = scaler.transform(X_test)\n",
    "\n",
    "# Build the neural network model\n",
    "model = Sequential()\n",
    "model.add(Dense(64, activation='relu', input_dim=X_train.shape[1]))\n",
    "model.add(Dense(32, activation='relu'))\n",
    "model.add(Dense(1, activation='linear'))\n",
    "\n",
    "# Compile the model\n",
    "model.compile(optimizer='adam', loss='mean_squared_error')\n",
    "\n",
    "# Train the model\n",
    "model.fit(X_train, y_train, epochs=10, batch_size=32, validation_split=0.2)\n",
    "\n",
    "# Evaluate the model on the test set\n",
    "y_pred = model.predict(X_test)\n",
    "\n",
    "# Calculate Mean Squared Error\n",
    "mse = mean_squared_error(y_test, y_pred)\n",
    "print(f'Mean Squared Error: {mse}')\n",
    "\n",
    "# Optionally, save the model for future use\n",
    "model.save('sales_prediction_model.h5')"
   ]
  },
  {
   "cell_type": "code",
   "execution_count": null,
   "metadata": {},
   "outputs": [],
   "source": []
  }
 ],
 "metadata": {
  "kernelspec": {
   "display_name": "env0",
   "language": "python",
   "name": "python3"
  },
  "language_info": {
   "codemirror_mode": {
    "name": "ipython",
    "version": 3
   },
   "file_extension": ".py",
   "mimetype": "text/x-python",
   "name": "python",
   "nbconvert_exporter": "python",
   "pygments_lexer": "ipython3",
   "version": "3.10.12"
  },
  "orig_nbformat": 4
 },
 "nbformat": 4,
 "nbformat_minor": 2
}
